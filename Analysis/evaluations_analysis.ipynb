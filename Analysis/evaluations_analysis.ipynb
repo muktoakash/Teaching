{
 "cells": [
  {
   "cell_type": "code",
   "execution_count": 1,
   "metadata": {},
   "outputs": [],
   "source": [
    "# imports\n",
    "import pandas as pd\n",
    "import numpy as np\n",
    "import seaborn as sns\n",
    "%matplotlib inline\n",
    "import xlrd\n",
    "import os\n",
    "import openpyxl\n",
    "import matplotlib.pyplot as plt\n",
    "import csv  # The CSV module\n",
    "from scipy import stats\n",
    "import plotly.express as px\n",
    "import plotly.graph_objects as go\n",
    "from datetime import datetime\n",
    "from varname import nameof, argname\n",
    "import tkinter as Tk\n",
    "from tkinter import filedialog\n",
    "from tkinter.filedialog import askopenfilename, asksaveasfilename\n",
    "from tkinter.messagebox import showwarning, showinfo\n",
    "import re"
   ]
  },
  {
   "cell_type": "code",
   "execution_count": 2,
   "metadata": {},
   "outputs": [],
   "source": [
    "# Get the folder containing the data files\n",
    "root = Tk.Tk()\n",
    "root.withdraw() #use to hide tkinter window\n",
    "\n",
    "currdir = os.getcwd()"
   ]
  },
  {
   "cell_type": "code",
   "execution_count": 3,
   "metadata": {},
   "outputs": [],
   "source": [
    "def load_file(title, suggested_filename=None):\n",
    "    global currdir\n",
    "    if suggested_filename:\n",
    "        file_path = filedialog.askopenfilename(parent=root, initialdir=currdir, title=title, initialfile=suggested_filename, defaultextension=\".csv\")\n",
    "    else:\n",
    "        file_path = filedialog.askopenfilename(parent=root, initialdir=currdir, title=title, defaultextension=\".csv\")\n",
    "    return file_path"
   ]
  },
  {
   "cell_type": "code",
   "execution_count": 4,
   "metadata": {},
   "outputs": [],
   "source": [
    "def save_file(title, suggested_filename=None):\n",
    "    files = [('CSV Files','*.csv'), ('All Files','*.*')]\n",
    "    if suggested_filename:\n",
    "        wfile = asksaveasfilename(title = title, filetypes = files, initialfile=suggested_filename, defaultextension=\".csv\")\n",
    "    else:\n",
    "        wfile = asksaveasfilename(title = title, filetypes = files, defaultextension=\".csv\")\n",
    "    return wfile"
   ]
  },
  {
   "cell_type": "markdown",
   "metadata": {},
   "source": [
    "# 1. Load All Teaching Evaluaions Data into single dataframe"
   ]
  },
  {
   "cell_type": "code",
   "execution_count": 5,
   "metadata": {},
   "outputs": [],
   "source": [
    "# Select a folder containing the data files\n",
    "folder = filedialog.askdirectory(parent=root, initialdir=currdir, title='Please select a directory')"
   ]
  },
  {
   "cell_type": "code",
   "execution_count": 6,
   "metadata": {},
   "outputs": [],
   "source": [
    "# A function that takes in a string. \n",
    "# If the string has the word \"-question\" in it, then it returns a list with of two items.\n",
    "# The first item is  the string \"question\", the second item is the substring of the input string that comes before the word \"-question\".\n",
    "# Else if the string has the word \"-response\" in it, then it returns a list with of two items.\n",
    "# The first item is  the string \"response\", the second item is the substring of the input string that comes before the word \"-response\".\n",
    "\n",
    "def get_question_or_response(string):\n",
    "    if \"-question\" in string:\n",
    "        return [\"question\", string.split(\"-question\")[0]]\n",
    "    elif \"-response\" in string:\n",
    "        return [\"response\", string.split(\"-response\")[0]]\n",
    "    else:\n",
    "        return [None, None]"
   ]
  },
  {
   "cell_type": "code",
   "execution_count": 18,
   "metadata": {},
   "outputs": [],
   "source": [
    "# Function that takes in a string and returns the term corresponding to the string.\n",
    "def get_term(string):\n",
    "    ret_string = \"\"\n",
    "    if string[-1] == \"1\":\n",
    "        ret_string = \"Winter\"\n",
    "    elif string[-1] == \"5\":\n",
    "        ret_string = \"Spring\"\n",
    "    elif string[-1] == \"9\":\n",
    "        ret_string = \"Fall\"\n",
    "    \n",
    "    temp_string = \"20\"\n",
    "    temp_string += string[1:len(string)-1]\n",
    "    ret_string += \" \" + temp_string\n",
    "    return ret_string\n"
   ]
  },
  {
   "cell_type": "code",
   "execution_count": 22,
   "metadata": {},
   "outputs": [],
   "source": [
    "# Function that takes in a string of the form \"MATH 235-1165\" and returns a list of two items.\n",
    "# The first item is the substring of the input string that comes before the hyphen.\n",
    "# The second item is the term based on the substring of the input string that comes after the hyphen.\n",
    "def get_course_and_term(string):\n",
    "    return [string.split(\"-\")[0], get_term(string.split(\"-\")[1])]"
   ]
  },
  {
   "cell_type": "code",
   "execution_count": 24,
   "metadata": {},
   "outputs": [],
   "source": [
    "# Create a dictionary of list of dictionaries of dataframes with the filenames as keys\n",
    "dataframes = {}\n",
    "dataframes[\"question\"] = list()\n",
    "dataframes[\"response\"] = list()\n",
    "\n",
    "for filename in os.listdir(folder):\n",
    "    if filename.endswith('.csv'):\n",
    "        key, val = get_question_or_response(filename)\n",
    "        # obtain the data frame from the csv file\n",
    "        temp_df = pd.read_csv(os.path.join(folder, filename))\n",
    "        # add two columns to the data frame. One for the course and one for the term.\n",
    "        temp_df[\"Course\"] = get_course_and_term(filename)[0]\n",
    "        temp_df[\"Term\"] = get_course_and_term(filename)[1]\n",
    "        # append the data frame to the list of dictionaries of dataframes\n",
    "        dataframes[key].append({f'{val}': temp_df})\n",
    "    else:\n",
    "        print(f\"Skipping file {filename}\")"
   ]
  },
  {
   "cell_type": "code",
   "execution_count": 25,
   "metadata": {},
   "outputs": [],
   "source": [
    "# Merge all the \"question\" dataframes into one dataframe\n",
    "questions_df = pd.concat([df for dic in dataframes[\"question\"] for df in dic.values()])\n"
   ]
  },
  {
   "cell_type": "code",
   "execution_count": 26,
   "metadata": {},
   "outputs": [],
   "source": [
    "# Merge all the \"response\" dataframes into one dataframe\n",
    "responses_df = pd.concat([df for dic in dataframes[\"response\"] for df in dic.values()])"
   ]
  },
  {
   "cell_type": "code",
   "execution_count": 27,
   "metadata": {},
   "outputs": [],
   "source": [
    "# Save the question and response dataframes to csv files\n",
    "questions_df.to_csv(save_file(\"Save the question data\", \"questions.csv\"), index=False)\n",
    "responses_df.to_csv(save_file(\"Save the response data\", \"responses.csv\"), index=False)"
   ]
  },
  {
   "cell_type": "code",
   "execution_count": 17,
   "metadata": {},
   "outputs": [
    {
     "name": "stdout",
     "output_type": "stream",
     "text": [
      "19\n"
     ]
    }
   ],
   "source": []
  },
  {
   "cell_type": "code",
   "execution_count": null,
   "metadata": {},
   "outputs": [],
   "source": []
  }
 ],
 "metadata": {
  "kernelspec": {
   "display_name": "base",
   "language": "python",
   "name": "python3"
  },
  "language_info": {
   "codemirror_mode": {
    "name": "ipython",
    "version": 3
   },
   "file_extension": ".py",
   "mimetype": "text/x-python",
   "name": "python",
   "nbconvert_exporter": "python",
   "pygments_lexer": "ipython3",
   "version": "3.8.5"
  }
 },
 "nbformat": 4,
 "nbformat_minor": 2
}
